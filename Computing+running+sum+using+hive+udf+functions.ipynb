{
 "cells": [
  {
   "cell_type": "code",
   "execution_count": null,
   "metadata": {
    "collapsed": true
   },
   "outputs": [],
   "source": [
    "#My very first hive query!!!\n",
    "\n",
    "I have a table as follows:\n",
    "\n",
    "SELECT a.storeid, a.smonth, a.sales FROM table a;\n",
    "1001    1       35000.0\n",
    "1002    2       35000.0\n",
    "1001    2       25000.0\n",
    "1002    3       110000.0\n",
    "1001    3       40000.0\n",
    "1002    1       40000.0\n",
    "My objective output is as follows:\n",
    "\n",
    "1001    1       35000.0 35000.0\n",
    "1001    2       25000.0 60000.0\n",
    "1001    3       40000.0 100000.0\n",
    "1002    1       40000.0 40000.0\n",
    "1002    2       35000.0 75000.0\n",
    "1002    3       110000.0 185000.0\n",
    "\n",
    "\n",
    "SELECT storeid, smonth, sales, SUM(sales) OVER (PARTITION BY storeid ORDER BY smonth) FROM table_name;"
   ]
  },
  {
   "cell_type": "code",
   "execution_count": null,
   "metadata": {
    "collapsed": true
   },
   "outputs": [],
   "source": [
    "#Ought to mention other variations to achieve the same result\n",
    "\n",
    "Alternatively, you might have a look at this Hive ticket which contains several feature extensions.\n",
    "Among others there's a cumulative sum implementation (GenericUDFSum).\n",
    "\n",
    "This function (referred to as \"rsum\") takes two arguments, the hash of the id (by which the records are partitioned among the reducers) and their corresponding values to be summed up:\n",
    "\n",
    "select t.storeid, t.smonth, t.sales, rsum(hash(t.storeid),t.sales) as sales_sum \n",
    "from (select storeid, smonth, sales from sales_sum distribute by hash(storeid) \n",
    "sort by storeid, smonth) t;\n",
    "\n",
    "1001  1  35000.0  35000.0\n",
    "1001  2  25000.0  60000.0\n",
    "1001  3  40000.0  100000.0\n",
    "1002  1  40000.0  40000.0\n",
    "1002  2  35000.0  75000.0\n",
    "1002  3  110000.0 185000.0"
   ]
  },
  {
   "cell_type": "code",
   "execution_count": null,
   "metadata": {
    "collapsed": true
   },
   "outputs": [],
   "source": [
    "#Not sure whether the below one works but found it too\n",
    "\n",
    "SELECT \n",
    "    a.storeid, \n",
    "    a.smonth,\n",
    "    a.sales,\n",
    "    SUM(a.sales) \n",
    "OVER (\n",
    "    PARTITION BY a.storeid \n",
    "    ORDER BY a.smonth asc \n",
    "    ROWS BETWEEN UNBOUNDED PRECEDING AND CURRENT ROW)\n",
    "FROM \n",
    "    table a;"
   ]
  }
 ],
 "metadata": {
  "kernelspec": {
   "display_name": "Python [conda root]",
   "language": "python",
   "name": "conda-root-py"
  },
  "language_info": {
   "codemirror_mode": {
    "name": "ipython",
    "version": 3
   },
   "file_extension": ".py",
   "mimetype": "text/x-python",
   "name": "python",
   "nbconvert_exporter": "python",
   "pygments_lexer": "ipython3",
   "version": "3.5.6"
  }
 },
 "nbformat": 4,
 "nbformat_minor": 2
}
